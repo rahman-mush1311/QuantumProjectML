{
  "cells": [
    {
      "cell_type": "code",
      "execution_count": null,
      "metadata": {
        "id": "bkIqyolUHj4k"
      },
      "outputs": [],
      "source": [
        "import numpy as np # linear algebra\n",
        "import pandas as pd # data processing, CSV file I/O (e.g. pd.read_csv)\n",
        "import matplotlib.pyplot as plt # Vizualisation\n",
        "import seaborn as sns\n",
        "import pandas as pd"
      ]
    },
    {
      "cell_type": "code",
      "execution_count": null,
      "metadata": {
        "id": "YqrpoVKZIt_1"
      },
      "outputs": [],
      "source": [
        "from google.colab import drive\n",
        "\n",
        "drive.mount(\"/content/gdrive\")"
      ]
    },
    {
      "cell_type": "code",
      "execution_count": null,
      "metadata": {
        "id": "_ajk3qvqJGf4"
      },
      "outputs": [],
      "source": [
        "data_url = '/content/gdrive/MyDrive/qml:db/framingham.csv'\n",
        "\n",
        "df = pd.read_csv(data_url)\n",
        "\n",
        "df.head()"
      ]
    },
    {
      "cell_type": "code",
      "execution_count": null,
      "metadata": {
        "id": "3ARy4vG-KCdO"
      },
      "outputs": [],
      "source": [
        "df.describe()"
      ]
    },
    {
      "cell_type": "code",
      "execution_count": null,
      "metadata": {
        "id": "Px9Vjr_8KUwd"
      },
      "outputs": [],
      "source": [
        "feature_cols = [\n",
        "    'age',\n",
        "    'currentSmoker',\n",
        "    'BMI',\n",
        "]\n",
        "target_col = 'TenYearCHD'"
      ]
    },
    {
      "cell_type": "code",
      "source": [
        "feature_cols = [\n",
        "    'age',\n",
        "    'currentSmoker',\n",
        "    'prevelantStroke',\n",
        "]\n",
        "target_col = 'TenYearCHD'"
      ],
      "metadata": {
        "id": "sHsCCHMjKg8u"
      },
      "execution_count": null,
      "outputs": []
    },
    {
      "cell_type": "code",
      "source": [
        "feature_cols = [\n",
        "    'cigsPerDay',\n",
        "    'prevalentHyp',\n",
        "    'currentSmoker',\n",
        "]\n",
        "target_col = 'TenYearCHD'"
      ],
      "metadata": {
        "id": "m_7aUhOg6fL-"
      },
      "execution_count": null,
      "outputs": []
    },
    {
      "cell_type": "code",
      "execution_count": null,
      "metadata": {
        "id": "AqIK4504KvSi"
      },
      "outputs": [],
      "source": [
        "df_Train = df[feature_cols + [target_col]]\n",
        "\n",
        "df_Train.head()"
      ]
    },
    {
      "cell_type": "code",
      "execution_count": null,
      "metadata": {
        "id": "MRAzD32DK7FL"
      },
      "outputs": [],
      "source": [
        "df_Train.isna().sum()"
      ]
    },
    {
      "cell_type": "code",
      "execution_count": null,
      "metadata": {
        "id": "Z1EVpcY7LBm0"
      },
      "outputs": [],
      "source": [
        "df_Train.dropna(inplace=True)"
      ]
    },
    {
      "cell_type": "code",
      "execution_count": null,
      "metadata": {
        "id": "5jFUaZKZLJdD"
      },
      "outputs": [],
      "source": [
        "len(df_Train)"
      ]
    },
    {
      "cell_type": "code",
      "execution_count": null,
      "metadata": {
        "id": "vw2w70AiLYm0"
      },
      "outputs": [],
      "source": [
        "n_samples = 4209\n",
        "\n",
        "df_Train = df_Train.sample(n_samples, random_state=42)\n",
        "\n",
        "df_Train.shape"
      ]
    },
    {
      "cell_type": "code",
      "execution_count": null,
      "metadata": {
        "id": "kriykz6_Lh2-"
      },
      "outputs": [],
      "source": [
        "from sklearn.model_selection import train_test_split\n",
        "\n",
        "X = df_Train[feature_cols]\n",
        "y = df_Train[target_col]\n",
        "\n",
        "X_train, X_test, y_train, y_test = train_test_split(X, y, test_size=0.25, random_state=42)\n",
        "\n",
        "X_train.shape, X_test.shape, y_train.shape, y_test.shape"
      ]
    },
    {
      "cell_type": "code",
      "execution_count": null,
      "metadata": {
        "id": "8Zf1yYHQMFOD"
      },
      "outputs": [],
      "source": [
        "from sklearn import svm\n",
        "model = svm.SVC(kernel='poly', degree=2)\n",
        "model.fit(X_train, y_train)"
      ]
    },
    {
      "cell_type": "code",
      "execution_count": null,
      "metadata": {
        "id": "49qG1w18MN_t"
      },
      "outputs": [],
      "source": [
        "from sklearn.metrics import accuracy_score\n",
        "predictions_poly = model.predict(X_test)\n",
        "accuracy_poly = accuracy_score(y_test, predictions_poly)\n",
        "print(\"2nd degree polynomial Kernel\\nAccuracy (normalized): \" + str(accuracy_poly))"
      ]
    },
    {
      "cell_type": "code",
      "source": [
        "from sklearn.metrics import classification_report\n",
        "\n",
        "Y_predict = model.predict(X_test)\n",
        "print(classification_report(y_test, Y_predict))"
      ],
      "metadata": {
        "id": "HWgwnEBe6DSh"
      },
      "execution_count": null,
      "outputs": []
    },
    {
      "cell_type": "code",
      "execution_count": null,
      "metadata": {
        "id": "-B927HNtMYbc"
      },
      "outputs": [],
      "source": [
        "!pip install qiskit-machine-learning"
      ]
    },
    {
      "cell_type": "code",
      "execution_count": null,
      "metadata": {
        "id": "s6umCnEMMfor"
      },
      "outputs": [],
      "source": [
        "!pip install qiskit-ibmq-provider"
      ]
    },
    {
      "cell_type": "code",
      "execution_count": null,
      "metadata": {
        "id": "Me9T2BBtMlms"
      },
      "outputs": [],
      "source": [
        "from qiskit import BasicAer\n",
        "\n",
        "backend = BasicAer.get_backend('statevector_simulator')\n",
        "\n",
        "backend"
      ]
    },
    {
      "cell_type": "code",
      "execution_count": null,
      "metadata": {
        "id": "B-_rNC-GNBl2"
      },
      "outputs": [],
      "source": [
        "from qiskit import IBMQ\n",
        "IBMQ.save_account('01ef93cc4b1db266cfacea36f11a39e0627ca074f6202c4243118582467a578c17d9ef76207f1ea5d43b8f5ddb2edea9da5dfb3f7eef3c5f6b1d8b63bd7f3c1c')"
      ]
    },
    {
      "cell_type": "code",
      "execution_count": null,
      "metadata": {
        "id": "PFlgTO_pNH0m"
      },
      "outputs": [],
      "source": [
        "provider = IBMQ.load_account()\n",
        "\n",
        "#backend=provider.get_backend('ibmq_belem')\n",
        "\n",
        "backend = provider.get_backend('simulator_mps')"
      ]
    },
    {
      "cell_type": "code",
      "execution_count": null,
      "metadata": {
        "id": "7chz-7MwMqfE"
      },
      "outputs": [],
      "source": [
        "from qiskit.utils import QuantumInstance\n",
        "\n",
        "quantum_instance = QuantumInstance(backend)\n",
        "\n",
        "quantum_instance"
      ]
    },
    {
      "cell_type": "code",
      "execution_count": null,
      "metadata": {
        "id": "UOOr_NEyMvFw"
      },
      "outputs": [],
      "source": [
        "num_qubits = len(feature_cols)\n",
        "\n",
        "num_qubits"
      ]
    },
    {
      "cell_type": "code",
      "execution_count": null,
      "metadata": {
        "id": "f8DEudybMzJ3"
      },
      "outputs": [],
      "source": [
        "from qiskit.circuit.library import ZFeatureMap\n",
        "\n",
        "feature_map = ZFeatureMap(feature_dimension=num_qubits)\n",
        "\n",
        "feature_map"
      ]
    },
    {
      "cell_type": "code",
      "execution_count": null,
      "metadata": {
        "id": "vnTB9GCsM3FB"
      },
      "outputs": [],
      "source": [
        "from qiskit_machine_learning.kernels import QuantumKernel\n",
        "\n",
        "qkernel = QuantumKernel(feature_map=feature_map, quantum_instance=quantum_instance)\n",
        "\n",
        "qkernel"
      ]
    },
    {
      "cell_type": "code",
      "execution_count": null,
      "metadata": {
        "id": "Rv3WB9rrNwrT"
      },
      "outputs": [],
      "source": [
        "from qiskit_machine_learning.algorithms import QSVC\n",
        "\n",
        "qsvc = QSVC(quantum_kernel=qkernel)\n",
        "\n",
        "qsvc.fit(X_train, y_train)"
      ]
    },
    {
      "cell_type": "code",
      "execution_count": null,
      "metadata": {
        "id": "OK3XRbrPFm4P"
      },
      "outputs": [],
      "source": [
        ""
      ]
    },
    {
      "cell_type": "code",
      "execution_count": null,
      "metadata": {
        "id": "V3hCdy-YN46G"
      },
      "outputs": [],
      "source": [
        "from sklearn.metrics import classification_report\n",
        "\n",
        "y_predict = qsvc.predict(X_test)\n",
        "print(classification_report(y_test, y_predict))"
      ]
    },
    {
      "cell_type": "code",
      "execution_count": null,
      "metadata": {
        "id": "2pBmjP11OOGG"
      },
      "outputs": [],
      "source": [
        ""
      ]
    }
  ],
  "metadata": {
    "accelerator": "GPU",
    "colab": {
      "collapsed_sections": [],
      "name": "qml:dbpro.ipynb",
      "provenance": []
    },
    "gpuClass": "standard",
    "kernelspec": {
      "display_name": "Python 3",
      "name": "python3"
    },
    "language_info": {
      "name": "python"
    }
  },
  "nbformat": 4,
  "nbformat_minor": 0
}